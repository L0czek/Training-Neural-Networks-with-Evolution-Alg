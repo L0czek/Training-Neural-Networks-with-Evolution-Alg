{
 "cells": [
  {
   "cell_type": "markdown",
   "id": "53770aad-4db0-4190-a60b-e9e541a65d6e",
   "metadata": {},
   "source": [
    "# $(\\mu, \\lambda)$ Evolution Strategy development\n",
    "\n",
    "## AMHE"
   ]
  },
  {
   "cell_type": "code",
   "execution_count": 1,
   "id": "dbde5350-e26e-4717-807e-58cb4434e1f8",
   "metadata": {},
   "outputs": [],
   "source": [
    "import nn_training\n",
    "\n",
    "import numpy as np\n",
    "\n",
    "%load_ext autoreload\n",
    "%autoreload 2"
   ]
  },
  {
   "cell_type": "code",
   "execution_count": 3,
   "id": "601592cd-a028-4acd-8836-fe9388a32e7e",
   "metadata": {},
   "outputs": [],
   "source": [
    "# Create nn object\n",
    "nn = nn_training.neural_nets.EvolutionAlgNeuralNetwork(in_channels=1, n_hidden_neurons=5, out_channels=1)\n",
    "\n",
    "# Mock input\n",
    "mock_x = np.array([1.2])"
   ]
  },
  {
   "cell_type": "code",
   "execution_count": 4,
   "id": "33986663-cf0c-4db8-9258-16343e25ccab",
   "metadata": {},
   "outputs": [],
   "source": [
    "x = [3, 3, 2]"
   ]
  },
  {
   "cell_type": "code",
   "execution_count": 6,
   "id": "cd4bf393-22a8-432d-9a19-38becb960900",
   "metadata": {},
   "outputs": [
    {
     "data": {
      "text/plain": [
       "2.6666666666666665"
      ]
     },
     "execution_count": 6,
     "metadata": {},
     "output_type": "execute_result"
    }
   ],
   "source": [
    "sum(x) / len(x)"
   ]
  },
  {
   "cell_type": "code",
   "execution_count": 10,
   "id": "c275f38e-2f14-455c-9160-fbe617084886",
   "metadata": {},
   "outputs": [
    {
     "name": "stdout",
     "output_type": "stream",
     "text": [
      "[3, 1, 2]\n"
     ]
    }
   ],
   "source": [
    "list1 = [\"c\", \"a\", \"b\"]\n",
    "list2 = [2, 3, 1]\n",
    "\n",
    "zipped_lists = zip(list1, list2)\n",
    "\n",
    "\n",
    "sorted_zipped_lists = sorted(zipped_lists)\n",
    "\n",
    "sorted_list1 = [element for _, element in sorted_zipped_lists]\n",
    "\n",
    "print(sorted_list1)"
   ]
  }
 ],
 "metadata": {
  "kernelspec": {
   "display_name": "Python 3 (ipykernel)",
   "language": "python",
   "name": "python3"
  },
  "language_info": {
   "codemirror_mode": {
    "name": "ipython",
    "version": 3
   },
   "file_extension": ".py",
   "mimetype": "text/x-python",
   "name": "python",
   "nbconvert_exporter": "python",
   "pygments_lexer": "ipython3",
   "version": "3.9.7"
  }
 },
 "nbformat": 4,
 "nbformat_minor": 5
}
