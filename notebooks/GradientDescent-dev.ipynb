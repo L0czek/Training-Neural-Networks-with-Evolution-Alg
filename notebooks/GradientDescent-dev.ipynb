{
 "cells": [
  {
   "cell_type": "markdown",
   "id": "266e3021-39bb-49fd-bdf9-db085bb93e7f",
   "metadata": {},
   "source": [
    "# Gradient Descent development\n",
    "\n",
    "## AMHE"
   ]
  },
  {
   "cell_type": "code",
   "execution_count": 1,
   "id": "6f5f7b14-51f2-4111-8c9b-f56ab0ecb8c0",
   "metadata": {},
   "outputs": [],
   "source": [
    "import nn_training.optimizers as optim\n",
    "import nn_training.experiment_objectives as object_fun\n",
    "import nn_training.neural_nets as n_nets\n",
    "import nn_training.data_utils as dutils\n",
    "\n",
    "import numpy as np\n",
    "import matplotlib.pyplot as plt\n",
    "\n",
    "plt.rcParams[\"figure.figsize\"] = (8, 6)\n",
    "\n",
    "%load_ext autoreload\n",
    "%autoreload 2"
   ]
  },
  {
   "cell_type": "code",
   "execution_count": 2,
   "id": "24075c2f-e898-4dfe-9cef-5b03377087a6",
   "metadata": {},
   "outputs": [],
   "source": [
    "dataset = dutils.UniformDistribution(1, -10, 10)\n",
    "\n",
    "optimizer = optim.GradientDescent(\n",
    "    optimized_func=object_fun.polynomial_func,    # in current experiment f(x) = x ** 2\n",
    "    dataset=dataset,\n",
    ")"
   ]
  },
  {
   "cell_type": "code",
   "execution_count": 3,
   "id": "ea8f1913-9a57-44eb-a9b9-1dd99097f1ed",
   "metadata": {
    "scrolled": true,
    "tags": []
   },
   "outputs": [
    {
     "name": "stdout",
     "output_type": "stream",
     "text": [
      "Epoch 0 loss => 200.95431427589267\n",
      "Epoch 1 loss => 84.31593322938474\n",
      "Epoch 2 loss => 62.8038442624857\n",
      "Epoch 3 loss => 46.75113355358167\n",
      "Epoch 4 loss => 34.698093171340766\n",
      "Epoch 5 loss => 26.487764399435513\n",
      "Epoch 6 loss => 21.211026234128838\n",
      "Epoch 7 loss => 16.370040713116317\n",
      "Epoch 8 loss => 13.608691882977752\n",
      "Epoch 9 loss => 11.49682594209376\n",
      "Epoch 10 loss => 9.842142120811564\n",
      "Epoch 11 loss => 8.527547085582162\n",
      "Epoch 12 loss => 7.420370834357486\n",
      "Epoch 13 loss => 6.617932959071442\n",
      "Epoch 14 loss => 6.085142316966026\n",
      "Epoch 15 loss => 5.4153960216299\n",
      "Epoch 16 loss => 4.820839732071875\n",
      "Epoch 17 loss => 4.304606733518393\n",
      "Epoch 18 loss => 3.9617554038542644\n",
      "Epoch 19 loss => 3.4064363936529176\n",
      "Epoch 20 loss => 3.2102175075399693\n",
      "Epoch 21 loss => 2.918262892641764\n",
      "Epoch 22 loss => 2.590914084417278\n",
      "Epoch 23 loss => 2.404343343849707\n",
      "Epoch 24 loss => 2.273136039937143\n",
      "Epoch 25 loss => 2.0481392313177182\n",
      "Epoch 26 loss => 1.9799368939343986\n",
      "Epoch 27 loss => 1.901158953653981\n",
      "Epoch 28 loss => 1.8510790282846306\n",
      "Epoch 29 loss => 1.7804395864793194\n",
      "Epoch 30 loss => 1.733204319691038\n",
      "Epoch 31 loss => 1.666208211430529\n",
      "Epoch 32 loss => 1.620763119940906\n",
      "Epoch 33 loss => 1.583331764563374\n",
      "Epoch 34 loss => 1.5350042674024709\n",
      "Epoch 35 loss => 1.5456411019849734\n",
      "Epoch 36 loss => 1.5187147891997825\n",
      "Epoch 37 loss => 1.450013624894192\n",
      "Epoch 38 loss => 1.4455095085240077\n",
      "Epoch 39 loss => 1.393367338947184\n",
      "Epoch 40 loss => 1.4128435118488658\n",
      "Epoch 41 loss => 1.4024478182179254\n",
      "Epoch 42 loss => 1.343554976490385\n",
      "Epoch 43 loss => 1.3169499711199617\n",
      "Epoch 44 loss => 1.2756999465525511\n",
      "Epoch 45 loss => 1.2622424704623685\n",
      "Epoch 46 loss => 1.2897135213563573\n",
      "Epoch 47 loss => 1.2661912026859747\n",
      "Epoch 48 loss => 1.2550815983359098\n",
      "Epoch 49 loss => 1.2305094963615046\n",
      "Epoch 50 loss => 1.197509281424556\n",
      "Epoch 51 loss => 1.1987349743731721\n",
      "Epoch 52 loss => 1.2148352398720277\n",
      "Epoch 53 loss => 1.1601335032515623\n",
      "Epoch 54 loss => 1.2076216112657587\n",
      "Epoch 55 loss => 1.2039877135947257\n",
      "Epoch 56 loss => 1.17303060297257\n",
      "Epoch 57 loss => 1.1807316347175074\n",
      "Epoch 58 loss => 1.1924878367963232\n",
      "Epoch 59 loss => 1.140619977985678\n",
      "Epoch 60 loss => 1.1445091314133855\n",
      "Epoch 61 loss => 1.1546489053738522\n",
      "Epoch 62 loss => 1.1172326235710563\n",
      "Epoch 63 loss => 1.1436206706961793\n",
      "Epoch 64 loss => 1.1034724918227032\n",
      "Epoch 65 loss => 1.0795036106076898\n",
      "Epoch 66 loss => 1.0977229956412062\n",
      "Epoch 67 loss => 1.0851510982601487\n",
      "Epoch 68 loss => 1.0826078426053434\n",
      "Epoch 69 loss => 1.0645236976495125\n",
      "Epoch 70 loss => 1.0517835133241353\n",
      "Epoch 71 loss => 1.0412737410050246\n",
      "Epoch 72 loss => 1.059860725181059\n",
      "Epoch 73 loss => 1.07215717149549\n",
      "Epoch 74 loss => 1.0333332430444029\n",
      "Epoch 75 loss => 0.9986970249989837\n",
      "Epoch 76 loss => 1.018790684496701\n",
      "Epoch 77 loss => 1.0236995447623067\n",
      "Epoch 78 loss => 1.0149561355333248\n",
      "Epoch 79 loss => 1.0187725640771041\n",
      "Epoch 80 loss => 1.0054589293313376\n",
      "Epoch 81 loss => 1.018985796401712\n",
      "Epoch 82 loss => 1.0034464080250474\n",
      "Epoch 83 loss => 0.9984733505403005\n",
      "Epoch 84 loss => 0.9735482134821859\n",
      "Epoch 85 loss => 0.957743282631808\n",
      "Epoch 86 loss => 0.9659109589729422\n",
      "Epoch 87 loss => 0.95876467082496\n",
      "Epoch 88 loss => 0.9323416715943312\n",
      "Epoch 89 loss => 0.9388808309700549\n",
      "Epoch 90 loss => 0.9511314520157864\n",
      "Epoch 91 loss => 0.9268940520065294\n",
      "Epoch 92 loss => 0.9267888201620568\n",
      "Epoch 93 loss => 0.919562634139176\n",
      "Epoch 94 loss => 0.9040761905359195\n",
      "Epoch 95 loss => 0.9007094938695376\n",
      "Epoch 96 loss => 0.9039672233906553\n",
      "Epoch 97 loss => 0.9198193603320808\n",
      "Epoch 98 loss => 0.891812522938363\n",
      "Epoch 99 loss => 0.8988919469034736\n",
      "Epoch 100 loss => 0.8989662836948684\n"
     ]
    }
   ],
   "source": [
    "experiment = optimizer.optimize(\n",
    "    experiment_name=\"test\",\n",
    "    in_channels=1,\n",
    "    n_hidden_neurons=10,\n",
    "    out_channels=1,\n",
    "    lr=1e-5,\n",
    "    n_iters=100,\n",
    "    probe_times=10_000,\n",
    "    best_loss_treshold=1e-10,\n",
    ")"
   ]
  },
  {
   "cell_type": "code",
   "execution_count": 4,
   "id": "078670b3-27a4-4d4f-8b70-936296851f6d",
   "metadata": {},
   "outputs": [
    {
     "data": {
      "text/plain": [
       "'Best model found after iteration = 98'"
      ]
     },
     "execution_count": 4,
     "metadata": {},
     "output_type": "execute_result"
    }
   ],
   "source": [
    "f\"Best model found after iteration = {experiment.best_individual_iteration}\""
   ]
  },
  {
   "cell_type": "code",
   "execution_count": 5,
   "id": "d8f8dbc2-7067-43b9-ae97-b2e920155ed8",
   "metadata": {},
   "outputs": [
    {
     "data": {
      "text/plain": [
       "'Best model loss = 0.891812522938363'"
      ]
     },
     "execution_count": 5,
     "metadata": {},
     "output_type": "execute_result"
    }
   ],
   "source": [
    "f\"Best model loss = {experiment.best_individual_loss}\""
   ]
  },
  {
   "cell_type": "code",
   "execution_count": 6,
   "id": "c1d491a3-33e6-4f4a-a525-c85075771d01",
   "metadata": {},
   "outputs": [],
   "source": [
    "# Computes result for visualization\n",
    "best_individual = experiment.best_individual\n",
    "\n",
    "xs = []\n",
    "y_true = []\n",
    "y_preds = []\n",
    "\n",
    "for _, x in zip(range(1000), dataset):\n",
    "    xs.append(x)\n",
    "    y_true.append(optimizer.optimized_func(x))\n",
    "    y_preds.append(best_individual.predict(x))"
   ]
  },
  {
   "cell_type": "code",
   "execution_count": 7,
   "id": "5e039547-0d3f-4799-8fd4-9652a3a82f7d",
   "metadata": {},
   "outputs": [
    {
     "data": {
      "image/png": "[encoded data removed]",
      "text/plain": [
       "<Figure size 576x432 with 1 Axes>"
      ]
     },
     "metadata": {
      "needs_background": "light"
     },
     "output_type": "display_data"
    }
   ],
   "source": [
    "# Visualize results\n",
    "plt.scatter(xs, y_true, color=\"g\", label=\"true\")\n",
    "plt.scatter(xs, y_preds, color=\"r\", label=\"pred\")\n",
    "\n",
    "plt.title(\"Predictions\")\n",
    "plt.legend()\n",
    "plt.grid(\"on\")"
   ]
  },
  {
   "cell_type": "code",
   "execution_count": 8,
   "id": "30d68203-e16f-49a4-86f3-27b7f53557e6",
   "metadata": {},
   "outputs": [
    {
     "data": {
      "image/png": "[encoded data removed]",
      "text/plain": [
       "<Figure size 576x432 with 1 Axes>"
      ]
     },
     "metadata": {
      "needs_background": "light"
     },
     "output_type": "display_data"
    }
   ],
   "source": [
    "# Visualize loss function\n",
    "\n",
    "plt.plot(range(len(experiment.losses_per_epoch)), experiment.losses_per_epoch, color=\"r\")\n",
    "plt.title(\"Best individual loss in each epoch\")\n",
    "plt.grid(\"on\")"
   ]
  }
 ],
 "metadata": {
  "kernelspec": {
   "display_name": "Python 3 (ipykernel)",
   "language": "python",
   "name": "python3"
  },
  "language_info": {
   "codemirror_mode": {
    "name": "ipython",
    "version": 3
   },
   "file_extension": ".py",
   "mimetype": "text/x-python",
   "name": "python",
   "nbconvert_exporter": "python",
   "pygments_lexer": "ipython3",
   "version": "3.9.7"
  }
 },
 "nbformat": 4,
 "nbformat_minor": 5
}
