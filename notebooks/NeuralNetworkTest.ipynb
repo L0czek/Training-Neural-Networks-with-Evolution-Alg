{
 "cells": [
  {
   "cell_type": "markdown",
   "id": "b99b2e4d-4809-415b-ae32-ca7a1c0251ff",
   "metadata": {},
   "source": [
    "# Neural Network class used to train with evolution algorithms - tests\n",
    "\n",
    "## AMHE"
   ]
  },
  {
   "cell_type": "markdown",
   "id": "598e2c77-39be-417e-ada7-20b6cc945059",
   "metadata": {},
   "source": [
    "#### Imports"
   ]
  },
  {
   "cell_type": "code",
   "execution_count": 1,
   "id": "bdce124a-a7d7-4599-801f-737f7f409b28",
   "metadata": {},
   "outputs": [],
   "source": [
    "import nn_training\n",
    "\n",
    "import numpy as np\n",
    "\n",
    "%load_ext autoreload\n",
    "%autoreload 2"
   ]
  },
  {
   "cell_type": "markdown",
   "id": "72b0e2d7-ea88-43f3-b48b-ee0aff791d1a",
   "metadata": {},
   "source": [
    "#### Test output shape"
   ]
  },
  {
   "cell_type": "code",
   "execution_count": 2,
   "id": "454c6b48-227b-42b7-baa1-3f7bcbca7511",
   "metadata": {},
   "outputs": [],
   "source": [
    "# Create nn object\n",
    "nn = nn_training.nn.EvolutionAlgNeuralNetwork(in_channels=1, n_hidden_neurons=5, out_channels=1)\n",
    "\n",
    "# Mock input\n",
    "mock_x = np.array([1.2])"
   ]
  },
  {
   "cell_type": "code",
   "execution_count": 3,
   "id": "536e6868-7155-452c-a5c8-31de7dd2d9ca",
   "metadata": {},
   "outputs": [],
   "source": [
    "# Use model to make a prediction\n",
    "out = nn.predict(mock_x)"
   ]
  },
  {
   "cell_type": "code",
   "execution_count": 4,
   "id": "4be4d7ef-af1e-4889-9442-23a3079e18e4",
   "metadata": {},
   "outputs": [],
   "source": [
    "assert out.shape == (1,), \"Output shapes missmatched!\""
   ]
  }
 ],
 "metadata": {
  "kernelspec": {
   "display_name": "Python 3 (ipykernel)",
   "language": "python",
   "name": "python3"
  },
  "language_info": {
   "codemirror_mode": {
    "name": "ipython",
    "version": 3
   },
   "file_extension": ".py",
   "mimetype": "text/x-python",
   "name": "python",
   "nbconvert_exporter": "python",
   "pygments_lexer": "ipython3",
   "version": "3.9.7"
  }
 },
 "nbformat": 4,
 "nbformat_minor": 5
}
